{
  "nbformat": 4,
  "nbformat_minor": 0,
  "metadata": {
    "colab": {
      "name": "func1.ipynb",
      "version": "0.3.2",
      "provenance": [],
      "collapsed_sections": [],
      "include_colab_link": true
    },
    "kernelspec": {
      "name": "python3",
      "display_name": "Python 3"
    }
  },
  "cells": [
    {
      "cell_type": "markdown",
      "metadata": {
        "id": "view-in-github",
        "colab_type": "text"
      },
      "source": [
        "<a href=\"https://colab.research.google.com/github/lokeshwarinayak/intenship/blob/master/func1.ipynb\" target=\"_parent\"><img src=\"https://colab.research.google.com/assets/colab-badge.svg\" alt=\"Open In Colab\"/></a>"
      ]
    },
    {
      "cell_type": "markdown",
      "metadata": {
        "id": "-PzPjyP7PvIY",
        "colab_type": "text"
      },
      "source": [
        "Function"
      ]
    },
    {
      "cell_type": "code",
      "metadata": {
        "id": "76BbCc4cJLWJ",
        "colab_type": "code",
        "colab": {
          "base_uri": "https://localhost:8080/",
          "height": 84
        },
        "outputId": "ec87af61-c763-40b2-8f32-6e78a5544d8a"
      },
      "source": [
        "  def is_prime(n):\n",
        "      for i in range(2,n):\n",
        "          if n % i ==0:\n",
        "               return False\n",
        "      return True\n",
        "   \n",
        "  n=input(\"enter a number:\")\n",
        "  for x in range(2,int(n)):\n",
        "      if is_prime(x):\n",
        "         print(x,\"is prime\")\n",
        "      else:\n",
        "         print(x,\"is not prime\")\n"
      ],
      "execution_count": 1,
      "outputs": [
        {
          "output_type": "stream",
          "text": [
            "enter a number:5\n",
            "2 is prime\n",
            "3 is prime\n",
            "4 is not prime\n"
          ],
          "name": "stdout"
        }
      ]
    },
    {
      "cell_type": "code",
      "metadata": {
        "id": "3uFZXlubRo18",
        "colab_type": "code",
        "colab": {
          "base_uri": "https://localhost:8080/",
          "height": 84
        },
        "outputId": "23bba326-ea97-4e4c-99de-809ab1d61e2a"
      },
      "source": [
        "number=int(input(\"enter any number:\"))\n",
        "if number > 1:\n",
        "  for i in range(2,number):\n",
        "    if (number % i)==0:\n",
        "        print(number,\"is not a prime number\")\n",
        "        break\n",
        "    else:\n",
        "         print(number,\"is a prime number\")\n",
        "else:\n",
        "  print(number,\"is not a prime number\")"
      ],
      "execution_count": 3,
      "outputs": [
        {
          "output_type": "stream",
          "text": [
            "enter any number:5\n",
            "5 is a prime number\n",
            "5 is a prime number\n",
            "5 is a prime number\n"
          ],
          "name": "stdout"
        }
      ]
    },
    {
      "cell_type": "code",
      "metadata": {
        "id": "jluxL2tHTdVB",
        "colab_type": "code",
        "colab": {
          "base_uri": "https://localhost:8080/",
          "height": 34
        },
        "outputId": "ee728961-ee22-4dd3-ae99-eaf081e164ef"
      },
      "source": [
        "start=1\n",
        "end=100\n",
        "for num in range (start,end+1):\n",
        "    if num % 2==0:\n",
        "       print(num,end=\" \")"
      ],
      "execution_count": 4,
      "outputs": [
        {
          "output_type": "stream",
          "text": [
            "2 4 6 8 10 12 14 16 18 20 22 24 26 28 30 32 34 36 38 40 42 44 46 48 50 52 54 56 58 60 62 64 66 68 70 72 74 76 78 80 82 84 86 88 90 92 94 96 98 100 "
          ],
          "name": "stdout"
        }
      ]
    },
    {
      "cell_type": "markdown",
      "metadata": {
        "id": "az7lohy6UBv7",
        "colab_type": "text"
      },
      "source": [
        "checking even or odd"
      ]
    },
    {
      "cell_type": "code",
      "metadata": {
        "id": "xKOj034RT-px",
        "colab_type": "code",
        "colab": {}
      },
      "source": [
        ""
      ],
      "execution_count": 0,
      "outputs": []
    }
  ]
}